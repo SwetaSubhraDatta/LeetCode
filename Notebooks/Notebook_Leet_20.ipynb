{
 "cells": [
  {
   "cell_type": "markdown",
   "metadata": {},
   "source": [
    "#### Qs 1 Company Tesla\n",
    "Given an integer array nums, move all 0's to the end of it while maintaining the relative order of the non-zero elements.\n",
    "\n",
    "Note that you must do this in-place without making a copy of the array."
   ]
  },
  {
   "cell_type": "code",
   "execution_count": 19,
   "metadata": {},
   "outputs": [
    {
     "name": "stdout",
     "output_type": "stream",
     "text": [
      "{1: 1, 0: 7, 256: 1}\n"
     ]
    }
   ],
   "source": [
    "image=[[1,0,256],[0,0,0],[0,0,0]]\n",
    "mp={}\n",
    "row=len(image)\n",
    "for r in range(row):\n",
    "    for c in range(len(image[r])):\n",
    "        pixel=image[r][c]\n",
    "        if pixel in mp:\n",
    "            mp[pixel]+=1\n",
    "        else:\n",
    "            mp[pixel]=1\n",
    "print(mp)\n"
   ]
  },
  {
   "cell_type": "code",
   "execution_count": 18,
   "metadata": {},
   "outputs": [
    {
     "data": {
      "text/plain": [
       "[1, 1, 2, 0, 0, 0]"
      ]
     },
     "execution_count": 18,
     "metadata": {},
     "output_type": "execute_result"
    }
   ],
   "source": [
    "## Ans 1\n",
    "nums=[1,0,0,0,1,2]\n",
    "non_zero_pos=0\n",
    "for pos in range(len(nums)):\n",
    "    if nums[pos]!=0:\n",
    "        nums[pos],nums[non_zero_pos]=nums[non_zero_pos],nums[pos]\n",
    "        non_zero_pos=non_zero_pos+1\n",
    "nums\n",
    "\n"
   ]
  }
 ],
 "metadata": {
  "kernelspec": {
   "display_name": "Python 3.9.7 ('venv': venv)",
   "language": "python",
   "name": "python3"
  },
  "language_info": {
   "codemirror_mode": {
    "name": "ipython",
    "version": 3
   },
   "file_extension": ".py",
   "mimetype": "text/x-python",
   "name": "python",
   "nbconvert_exporter": "python",
   "pygments_lexer": "ipython3",
   "version": "3.9.7"
  },
  "orig_nbformat": 4,
  "vscode": {
   "interpreter": {
    "hash": "690c68bfdfc553f875186b12771921f6a260ad811718e3f3d94e27c803ae41f6"
   }
  }
 },
 "nbformat": 4,
 "nbformat_minor": 2
}
